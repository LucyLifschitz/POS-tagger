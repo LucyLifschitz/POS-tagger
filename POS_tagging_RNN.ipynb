{
  "nbformat": 4,
  "nbformat_minor": 0,
  "metadata": {
    "colab": {
      "provenance": []
    },
    "kernelspec": {
      "name": "python3",
      "display_name": "Python 3"
    },
    "language_info": {
      "name": "python"
    }
  },
  "cells": [
    {
      "cell_type": "markdown",
      "source": [
        "# POS Tagging Using RNN"
      ],
      "metadata": {
        "id": "7AfAmfoIbaaS"
      }
    },
    {
      "cell_type": "markdown",
      "source": [
        "The process of classifying words into their parts of speech and labeling them accordingly is known as part-of-speech tagging, or  POS-tagging. Common parts of speech in English are noun, verb, adjective, adverb, etc. One can consider this as a multi-class classification problem and apply a Logistic Regression model to tag the words. However, the problem with this approach is the ambiguity of the English language. In English, many common words have multiple meanings and therefore multiple POS. For example, the word \"shot\" can be a noun or a verb. The job of a POS tagger is to resolve this ambiguity accurately based on the context of use. Unlike Logistic Regression model, RNN models are capable of taking the context of a word into consideration. In this project we explore the application of several RNN models to POS tagging.\n",
        "\n",
        "We will use conll2000 corpus for our explorations. The data we use can be found at http://www.cnts.ua.ac.be/conll2000/chunking/. We start with general imports."
      ],
      "metadata": {
        "id": "a8ssfYMDb31b"
      }
    },
    {
      "cell_type": "code",
      "source": [
        "# general imports \n",
        "import numpy as np\n",
        "import pandas as pd\n",
        "import tensorflow as tf\n",
        "from matplotlib import pyplot as plt\n",
        "from keras.utils.np_utils import to_categorical\n",
        "from keras.layers import Embedding, Dense, Input, TimeDistributed\n",
        "from keras.layers import LSTM, GRU, SimpleRNN, RNN\n",
        "from keras.models import Model\n",
        "from keras.models import Sequential\n",
        "from keras.preprocessing.text import Tokenizer\n",
        "from sklearn.model_selection import train_test_split\n",
        "from sklearn.utils import shuffle\n",
        "from gensim.models import KeyedVectors"
      ],
      "metadata": {
        "id": "nVFuyySYfYU0"
      },
      "execution_count": null,
      "outputs": []
    },
    {
      "cell_type": "markdown",
      "source": [
        "## Preprocess the data"
      ],
      "metadata": {
        "id": "GZD7V9OncvTV"
      }
    },
    {
      "cell_type": "markdown",
      "source": [
        "The train and test data files have three columns separated by spaces. Each word has been put on a separate line and there is an empty line after each sentence. The first column contains the current word, the second its part-of-speech tag as derived by the Brill tagger and the third its chunk tag as derived from the WSJ corpus. We will use the first two columns."
      ],
      "metadata": {
        "id": "wTb9pDIJdKKe"
      }
    },
    {
      "cell_type": "markdown",
      "source": [
        "We start preprocessing of data by dividing it into words and tags."
      ],
      "metadata": {
        "id": "37QQ5YhYi4L7"
      }
    },
    {
      "cell_type": "markdown",
      "source": [
        "### Divide data into words and tags"
      ],
      "metadata": {
        "id": "2LePIqUGz4ms"
      }
    },
    {
      "cell_type": "markdown",
      "source": [
        "We loop through each line of the data file. If the line is not empty, we split off word and tag and store them in currentX and currentY lists respectively. If the line is empty, we append currentX and currentY to Xtrain and Ytrain (Xtest and Ytest for the test data)."
      ],
      "metadata": {
        "id": "BThgJy2mQko0"
      }
    },
    {
      "cell_type": "code",
      "source": [
        "# divide the train dataset into words and tags / features and labels\n",
        "Xtrain = []\n",
        "Ytrain = []\n",
        "currentX = []\n",
        "currentY = []\n",
        "for line in open('/content/drive/MyDrive/NLP/Parts_of_speech_tagging/train.txt'):\n",
        "    line = line.rstrip()\n",
        "    if line:\n",
        "      r = line.split()\n",
        "      word, tag, _ = r\n",
        "      currentX.append(word)\n",
        "      currentY.append(tag)\n",
        "    else:\n",
        "      Xtrain.append(currentX)\n",
        "      Ytrain.append(currentY)\n",
        "      currentX = []\n",
        "      currentY = []\n",
        "\n"
      ],
      "metadata": {
        "id": "mejKM4P2kCbr"
      },
      "execution_count": null,
      "outputs": []
    },
    {
      "cell_type": "code",
      "source": [
        "# divide the test data into words and tags / features and labels\n",
        "Xtest = []\n",
        "Ytest = []\n",
        "currentX = []\n",
        "currentY = []\n",
        "for line in open('/content/drive/MyDrive/NLP/Parts_of_speech_tagging/test.txt'):\n",
        "    line = line.rstrip()\n",
        "    if line:\n",
        "      r = line.split()\n",
        "      word, tag, _ = r\n",
        "      currentX.append(word)\n",
        "      currentY.append(tag)\n",
        "    else:\n",
        "      Xtest.append(currentX)\n",
        "      Ytest.append(currentY)\n",
        "      currentX = []\n",
        "      currentY = []"
      ],
      "metadata": {
        "id": "ERKzFS6SrAeG"
      },
      "execution_count": null,
      "outputs": []
    },
    {
      "cell_type": "code",
      "source": [
        "num_words = len(set([word.lower() for sentence in Xtrain for word in sentence]))\n",
        "num_tags   = len(set([word.lower() for sentence in Ytrain for word in sentence]))\n",
        "print(\"Total number of tagged sentences in training dataset: {}\".format(len(Xtrain)))\n",
        "print(\"Total number of tagged sentences in test dataset: {}\".format(len(Xtest)))\n",
        "print(\"Vocabulary size: {}\".format(num_words))\n",
        "print(\"Total number of tags: {}\".format(num_tags))"
      ],
      "metadata": {
        "colab": {
          "base_uri": "https://localhost:8080/"
        },
        "id": "UUbvblV6r8qm",
        "outputId": "929cdb13-5672-463a-b07e-7b0de973b77c"
      },
      "execution_count": null,
      "outputs": [
        {
          "output_type": "stream",
          "name": "stdout",
          "text": [
            "Total number of tagged sentences in training dataset: 8936\n",
            "Total number of tagged sentences in test dataset: 2012\n",
            "Vocabulary size: 17258\n",
            "Total number of tags: 44\n"
          ]
        }
      ]
    },
    {
      "cell_type": "markdown",
      "source": [
        "Next we check whether the sets of tags for the train and test data are the same."
      ],
      "metadata": {
        "id": "LeV8dqHASmVX"
      }
    },
    {
      "cell_type": "code",
      "source": [
        "Ytrain_pos = set([word.lower() for sentence in Ytrain for word in sentence])\n",
        "Ytest_pos = set([word.lower() for sentence in Ytest for word in sentence])"
      ],
      "metadata": {
        "id": "V6kTnQtwytxg"
      },
      "execution_count": null,
      "outputs": []
    },
    {
      "cell_type": "code",
      "source": [
        "len(Ytrain_pos), len(Ytest_pos)"
      ],
      "metadata": {
        "colab": {
          "base_uri": "https://localhost:8080/"
        },
        "id": "gMQVl0OaVInU",
        "outputId": "87f39b44-100f-4381-e9e5-123e6d6d36e9"
      },
      "execution_count": null,
      "outputs": [
        {
          "output_type": "execute_result",
          "data": {
            "text/plain": [
              "(44, 43)"
            ]
          },
          "metadata": {},
          "execution_count": 6
        }
      ]
    },
    {
      "cell_type": "code",
      "source": [
        "Ytrain_pos-Ytest_pos"
      ],
      "metadata": {
        "colab": {
          "base_uri": "https://localhost:8080/"
        },
        "id": "SEMxvRuRy_CW",
        "outputId": "02ba8ac8-5eef-4ff1-da71-07bc0629c701"
      },
      "execution_count": null,
      "outputs": [
        {
          "output_type": "execute_result",
          "data": {
            "text/plain": [
              "{'sym'}"
            ]
          },
          "metadata": {},
          "execution_count": 7
        }
      ]
    },
    {
      "cell_type": "code",
      "source": [
        "for i in range(len(Ytrain)):\n",
        "  for j in range(len(Ytrain[i])):\n",
        "    if Ytrain[i][j].lower()=='sym':\n",
        "      print(i,j)"
      ],
      "metadata": {
        "colab": {
          "base_uri": "https://localhost:8080/"
        },
        "id": "YYvAJaeo01Ks",
        "outputId": "b3c4a912-8848-4812-b8e1-3f5fa2cc1dc9"
      },
      "execution_count": null,
      "outputs": [
        {
          "output_type": "stream",
          "name": "stdout",
          "text": [
            "1420 0\n",
            "3423 0\n",
            "3424 0\n",
            "3425 0\n",
            "3572 1\n",
            "3573 1\n"
          ]
        }
      ]
    },
    {
      "cell_type": "code",
      "source": [
        "print(Ytrain[3572])\n",
        "print(Xtrain[3572])"
      ],
      "metadata": {
        "colab": {
          "base_uri": "https://localhost:8080/"
        },
        "id": "4t7gCX0l-8Yg",
        "outputId": "9330f71b-28a2-4b27-df12-f261a07551f7"
      },
      "execution_count": null,
      "outputs": [
        {
          "output_type": "stream",
          "name": "stdout",
          "text": [
            "['NN', 'SYM', 'FW', '.']\n",
            "['Pitcher', '=', 'lanzador', '.']\n"
          ]
        }
      ]
    },
    {
      "cell_type": "markdown",
      "source": [
        "We found that the set of training labels contains one extra label, 'SYM\", than the set of the test labels."
      ],
      "metadata": {
        "id": "GNSS-qYeWAC6"
      }
    },
    {
      "cell_type": "markdown",
      "source": [
        "### Representing words and tags as numbers"
      ],
      "metadata": {
        "id": "fXI9aJbDtt13"
      }
    },
    {
      "cell_type": "markdown",
      "source": [
        "To use a machine learning model we need to represent our data - inputs X and outputs Y - as numbers. We will use the built in Keras Tokenizer for this task. We fit our tokenizer on training data, and then use it to convert both train and test data to numbers."
      ],
      "metadata": {
        "id": "5_QSJAul0vU2"
      }
    },
    {
      "cell_type": "code",
      "source": [
        "# encode X\n",
        "word_tokenizer = Tokenizer() \n",
        "word_tokenizer.fit_on_texts(Xtrain) \n",
        "Xtrain_encoded = word_tokenizer.texts_to_sequences(Xtrain)\n",
        "Xtest_encoded = word_tokenizer.texts_to_sequences(Xtest)"
      ],
      "metadata": {
        "id": "d3U_Oasi1uvu"
      },
      "execution_count": null,
      "outputs": []
    },
    {
      "cell_type": "code",
      "source": [
        "# encode Y\n",
        "tag_tokenizer = Tokenizer() \n",
        "tag_tokenizer.fit_on_texts(Ytrain) \n",
        "Ytrain_encoded = tag_tokenizer.texts_to_sequences(Ytrain)\n",
        "Ytest_encoded = tag_tokenizer.texts_to_sequences(Ytest)\n"
      ],
      "metadata": {
        "id": "aVd7Avpy2wlp"
      },
      "execution_count": null,
      "outputs": []
    },
    {
      "cell_type": "code",
      "source": [
        "# look at first encoded data point\n",
        "print(\"** Raw data point **\", \"\\n\", \"-\"*100, \"\\n\")\n",
        "print('X: ', Xtrain[0],  '\\n')\n",
        "print('Y: ', Ytrain[0],  '\\n')\n",
        "print()\n",
        "print(\"** Encoded data point **\", \"\\n\", \"-\"*100, \"\\n\")\n",
        "print('X: ', Xtrain_encoded[0], '\\n')\n",
        "print('Y: ', Ytrain_encoded[0], '\\n')\n",
        "print()\n",
        "len(Xtrain[0]), len(Ytrain[0]), len(Xtrain_encoded[0]), len(Ytrain_encoded[0])"
      ],
      "metadata": {
        "colab": {
          "base_uri": "https://localhost:8080/"
        },
        "id": "Q1cx_v3u3fTV",
        "outputId": "2252eea6-1b26-4383-c664-aee512fdb9e2"
      },
      "execution_count": null,
      "outputs": [
        {
          "output_type": "stream",
          "name": "stdout",
          "text": [
            "** Raw data point ** \n",
            " ---------------------------------------------------------------------------------------------------- \n",
            "\n",
            "X:  ['Confidence', 'in', 'the', 'pound', 'is', 'widely', 'expected', 'to', 'take', 'another', 'sharp', 'dive', 'if', 'trade', 'figures', 'for', 'September', ',', 'due', 'for', 'release', 'tomorrow', ',', 'fail', 'to', 'show', 'a', 'substantial', 'improvement', 'from', 'July', 'and', 'August', \"'s\", 'near-record', 'deficits', '.'] \n",
            "\n",
            "Y:  ['NN', 'IN', 'DT', 'NN', 'VBZ', 'RB', 'VBN', 'TO', 'VB', 'DT', 'JJ', 'NN', 'IN', 'NN', 'NNS', 'IN', 'NNP', ',', 'JJ', 'IN', 'NN', 'NN', ',', 'VB', 'TO', 'VB', 'DT', 'JJ', 'NN', 'IN', 'NNP', 'CC', 'NNP', 'POS', 'JJ', 'NNS', '.'] \n",
            "\n",
            "\n",
            "** Encoded data point ** \n",
            " ---------------------------------------------------------------------------------------------------- \n",
            "\n",
            "X:  [1536, 7, 2, 1637, 15, 1106, 184, 5, 207, 246, 1146, 4973, 71, 481, 566, 9, 461, 1, 252, 9, 1750, 2555, 1, 4171, 5, 598, 6, 1309, 1537, 21, 736, 8, 549, 10, 6326, 8935, 3] \n",
            "\n",
            "Y:  [1, 2, 4, 1, 16, 11, 15, 14, 12, 4, 6, 1, 2, 1, 5, 2, 3, 7, 6, 2, 1, 1, 7, 12, 14, 12, 4, 6, 1, 2, 3, 13, 3, 22, 6, 5, 8] \n",
            "\n",
            "\n"
          ]
        },
        {
          "output_type": "execute_result",
          "data": {
            "text/plain": [
              "(37, 37, 37, 37)"
            ]
          },
          "metadata": {},
          "execution_count": 14
        }
      ]
    },
    {
      "cell_type": "markdown",
      "source": [
        "### Pad sequences"
      ],
      "metadata": {
        "id": "pQfnIYtK43Mw"
      }
    },
    {
      "cell_type": "markdown",
      "source": [
        "To feed our data into an RNN model we need all sentences to have the same length. We find the maximal length of a sentence in our data and pad each sequence with zeros at the beginning to have the same length. We use Keras built in function pad_sequences for this purpose."
      ],
      "metadata": {
        "id": "NlqIxwhDY0vD"
      }
    },
    {
      "cell_type": "markdown",
      "source": [
        "Find the maximal sentences length and pad all sentences to be that length."
      ],
      "metadata": {
        "id": "hx5jlEfSqUrb"
      }
    },
    {
      "cell_type": "code",
      "source": [
        "max_seq_length = max(len(x) for x in Xtrain + Xtest)\n",
        "max_seq_length"
      ],
      "metadata": {
        "colab": {
          "base_uri": "https://localhost:8080/"
        },
        "id": "D2R5WE9MBvef",
        "outputId": "96175407-6485-4bbf-9fbe-c84319336304"
      },
      "execution_count": null,
      "outputs": [
        {
          "output_type": "execute_result",
          "data": {
            "text/plain": [
              "78"
            ]
          },
          "metadata": {},
          "execution_count": 7
        }
      ]
    },
    {
      "cell_type": "code",
      "source": [
        "# pad sequences\n",
        "Xtrain_padded = tf.keras.preprocessing.sequence.pad_sequences(Xtrain_encoded, maxlen=max_seq_length)\n",
        "Ytrain_padded = tf.keras.preprocessing.sequence.pad_sequences(Ytrain_encoded, maxlen=max_seq_length)\n",
        "Xtest_padded  = tf.keras.preprocessing.sequence.pad_sequences(Xtest_encoded,  maxlen=max_seq_length)\n",
        "Ytest_padded  = tf.keras.preprocessing.sequence.pad_sequences(Ytest_encoded,  maxlen=max_seq_length)\n",
        "\n",
        "# print the first sequence\n",
        "print(Xtrain_padded[0], \"\\n\"*3)\n",
        "print(Ytrain_padded[0])"
      ],
      "metadata": {
        "colab": {
          "base_uri": "https://localhost:8080/"
        },
        "id": "OvfaSvB4B9iv",
        "outputId": "8e114157-54df-47ae-b6a4-e1850ca275de"
      },
      "execution_count": null,
      "outputs": [
        {
          "output_type": "stream",
          "name": "stdout",
          "text": [
            "[   0    0    0    0    0    0    0    0    0    0    0    0    0    0\n",
            "    0    0    0    0    0    0    0    0    0    0    0    0    0    0\n",
            "    0    0    0    0    0    0    0    0    0    0    0    0    0 1536\n",
            "    7    2 1637   15 1106  184    5  207  246 1146 4973   71  481  566\n",
            "    9  461    1  252    9 1750 2555    1 4171    5  598    6 1309 1537\n",
            "   21  736    8  549   10 6326 8935    3] \n",
            "\n",
            "\n",
            "\n",
            "[ 0  0  0  0  0  0  0  0  0  0  0  0  0  0  0  0  0  0  0  0  0  0  0  0\n",
            "  0  0  0  0  0  0  0  0  0  0  0  0  0  0  0  0  0  1  2  4  1 16 11 15\n",
            " 14 12  4  6  1  2  1  5  2  3  7  6  2  1  1  7 12 14 12  4  6  1  2  3\n",
            " 13  3 22  6  5  8]\n"
          ]
        }
      ]
    },
    {
      "cell_type": "code",
      "source": [
        "# assign padded sequences to X and Y\n",
        "Xtrain, Ytrain, Xtest, Ytest = Xtrain_padded, Ytrain_padded, Xtest_padded, Ytest_padded"
      ],
      "metadata": {
        "id": "pUt7e8ZB_brh"
      },
      "execution_count": null,
      "outputs": []
    },
    {
      "cell_type": "markdown",
      "source": [
        "### Vectorizing X and Y"
      ],
      "metadata": {
        "id": "PJ9k17CADORe"
      }
    },
    {
      "cell_type": "markdown",
      "source": [
        "Currently, each word and each tag is encoded as an integer.\n",
        "\n",
        "We will use a more sophisticated technique to represent the input words (X) using what's known as word embeddings.\n",
        "\n",
        "To represent each tag in Y, we use one-hot encoding scheme."
      ],
      "metadata": {
        "id": "YudTgx8Ca80O"
      }
    },
    {
      "cell_type": "markdown",
      "source": [
        "#### GLoVe embeddings for the input sequences X."
      ],
      "metadata": {
        "id": "6y-Gw_egsW5P"
      }
    },
    {
      "cell_type": "markdown",
      "source": [
        "GloVe stands for Global Vectors for word representation. It is an unsupervised learning algorithm developed by researchers at Stanford University aiming to generate word embeddings by aggregating global word co-occurrence matrices from a given corpus."
      ],
      "metadata": {
        "id": "gKZimfXsmrkZ"
      }
    },
    {
      "cell_type": "code",
      "source": [
        "# load in pre-trained word vectors\n",
        "word2vec = {}\n",
        "\n",
        "with open('/content/drive/MyDrive/NLP/glove.6B/glove.6B.100d.txt', encoding='utf-8') as f:\n",
        "  # is just a space-separated text file in the format:\n",
        "  # word vec[0] vec[1] vec[2] ...\n",
        "  for line in f:\n",
        "    values = line.split()\n",
        "    word = values[0]\n",
        "    vec = np.asarray(values[1:], dtype='float32')\n",
        "    word2vec[word] = vec"
      ],
      "metadata": {
        "id": "Kedx6Nt0sPxP"
      },
      "execution_count": null,
      "outputs": []
    },
    {
      "cell_type": "code",
      "source": [
        "# assign word vectors from GLoVe model\n",
        "\n",
        "EMBEDDING_SIZE  = 100  # each word in GLoVe model is represented using a 100 dimensional vector\n",
        "VOCABULARY_SIZE = len(word_tokenizer.word_index) + 1\n",
        "\n",
        "# create an empty embedding matix\n",
        "embedding_weights = np.zeros((VOCABULARY_SIZE, EMBEDDING_SIZE))\n",
        "\n",
        "# create a word to index dictionary mapping\n",
        "word2idx = word_tokenizer.word_index\n",
        "\n",
        "# copy vectors from GLoVe model to the words present in corpus\n",
        "for word, index in word2idx.items():\n",
        "    try:\n",
        "        embedding_weights[index, :] = word2vec[word]\n",
        "    except KeyError:\n",
        "        pass"
      ],
      "metadata": {
        "id": "XoWCONM-xJA5"
      },
      "execution_count": null,
      "outputs": []
    },
    {
      "cell_type": "code",
      "source": [
        "# check embedding dimension\n",
        "print(\"Embeddings shape: {}\".format(embedding_weights.shape))"
      ],
      "metadata": {
        "colab": {
          "base_uri": "https://localhost:8080/"
        },
        "id": "tDBE8JdlzFvL",
        "outputId": "26669528-f14a-4f8a-fe2b-9a043b6a05a6"
      },
      "execution_count": null,
      "outputs": [
        {
          "output_type": "stream",
          "name": "stdout",
          "text": [
            "Embeddings shape: (17259, 100)\n"
          ]
        }
      ]
    },
    {
      "cell_type": "code",
      "source": [
        "# let's look at an embedding of a word\n",
        "embedding_weights[word_tokenizer.word_index['have']]"
      ],
      "metadata": {
        "colab": {
          "base_uri": "https://localhost:8080/"
        },
        "id": "Y188V2QPzOFz",
        "outputId": "d921da8c-e1d3-4ca7-f286-c9c66cf33f26"
      },
      "execution_count": null,
      "outputs": [
        {
          "output_type": "execute_result",
          "data": {
            "text/plain": [
              "array([ 1.57110006e-01,  6.56059980e-01,  2.11489992e-03, -6.51440024e-01,\n",
              "       -2.84269989e-01, -2.03690007e-01, -7.75960013e-02,  4.07979995e-01,\n",
              "       -3.44699994e-02, -1.63900003e-01, -2.15969995e-01,  3.41780007e-01,\n",
              "        1.19599998e+00,  3.36389989e-01, -2.10759997e-01, -5.60150027e-01,\n",
              "        1.50700003e-01,  3.49119991e-01, -9.71279979e-01,  1.81520000e-01,\n",
              "        7.44080007e-01,  2.00289994e-01,  6.69860005e-01,  1.60850003e-01,\n",
              "       -1.35070004e-03, -5.53919971e-01,  1.94110006e-01, -4.80430007e-01,\n",
              "       -2.97769994e-01, -5.07650018e-01,  8.01639974e-01,  5.04239976e-01,\n",
              "       -4.05239999e-01,  5.39910018e-01,  6.56859994e-01,  2.11400002e-01,\n",
              "        1.85749993e-01,  8.06970000e-01, -2.00660005e-01,  9.57140028e-02,\n",
              "       -5.88989973e-01, -3.59070003e-01,  2.71620005e-01, -5.17939985e-01,\n",
              "        2.34699994e-01, -4.59990017e-02,  5.65010011e-01, -4.07469988e-01,\n",
              "        6.33769989e-01, -9.22659993e-01, -2.34180000e-02, -2.50400007e-01,\n",
              "       -1.95759997e-01,  1.38629997e+00,  8.73140022e-02, -2.23090005e+00,\n",
              "        1.50839999e-01, -1.86609998e-01,  1.29200006e+00,  1.32589996e+00,\n",
              "       -3.01800013e-01,  1.25539994e+00, -4.15939987e-01,  4.50819992e-02,\n",
              "        1.25689995e+00,  1.91479996e-01,  5.31440020e-01,  5.49040020e-01,\n",
              "        1.63310006e-01, -6.65090024e-01,  1.17980003e-01, -5.24980009e-01,\n",
              "       -8.46230015e-02, -5.58659971e-01, -4.42939997e-01, -1.95989996e-01,\n",
              "       -1.76980004e-01,  3.18100005e-01, -1.47360003e+00,  2.62930006e-01,\n",
              "        9.63670015e-01, -2.54629999e-01, -7.07859993e-01, -1.17129996e-01,\n",
              "       -2.35080004e+00, -4.73859996e-01,  5.62579989e-01, -7.99650028e-02,\n",
              "       -6.98559999e-01, -4.85240012e-01, -3.30810010e-01, -1.92049995e-01,\n",
              "       -4.96950001e-01, -3.26429993e-01, -9.72069979e-01,  2.10920006e-01,\n",
              "       -5.80820024e-01, -6.06149971e-01,  7.10049987e-01,  4.14689988e-01])"
            ]
          },
          "metadata": {},
          "execution_count": 21
        }
      ]
    },
    {
      "cell_type": "markdown",
      "source": [
        "####  One-hot encoding for output sequences Y"
      ],
      "metadata": {
        "id": "0VtbBlL44BRJ"
      }
    },
    {
      "cell_type": "markdown",
      "source": [
        "Since Ytest has one less label than Ytrain, we specify the number of classes when encoding Ytest."
      ],
      "metadata": {
        "id": "EyZfbk0QphNp"
      }
    },
    {
      "cell_type": "code",
      "source": [
        "# use Keras' to_categorical function to one-hot encode Y\n",
        "Ytrain = to_categorical(Ytrain)\n",
        "Ytest = to_categorical(Ytest, num_classes=45)"
      ],
      "metadata": {
        "id": "0dSNF7tB5eNA"
      },
      "execution_count": null,
      "outputs": []
    },
    {
      "cell_type": "code",
      "source": [
        "Ytrain.shape, Ytest.shape"
      ],
      "metadata": {
        "colab": {
          "base_uri": "https://localhost:8080/"
        },
        "id": "4nlavVVY6rQq",
        "outputId": "f510d8c1-b1ab-4dca-d9d0-987354a4fb6c"
      },
      "execution_count": null,
      "outputs": [
        {
          "output_type": "execute_result",
          "data": {
            "text/plain": [
              "((8936, 78, 45), (2012, 78, 45))"
            ]
          },
          "metadata": {},
          "execution_count": 23
        }
      ]
    },
    {
      "cell_type": "markdown",
      "source": [
        "### Split training data into training and validation sets"
      ],
      "metadata": {
        "id": "GZ7BbwtS7OQr"
      }
    },
    {
      "cell_type": "code",
      "source": [
        "# split training data into training and validation sets\n",
        "VALID_SIZE = 0.15\n",
        "Xtrain, Xvalid, Ytrain, Yvalid = train_test_split(Xtrain, Ytrain, test_size=VALID_SIZE, random_state=4)"
      ],
      "metadata": {
        "id": "Rr6QBWpA8Xee"
      },
      "execution_count": null,
      "outputs": []
    },
    {
      "cell_type": "code",
      "source": [
        "# print number of samples in each set\n",
        "print(\"TRAINING DATA\")\n",
        "print('Shape of input sequences: {}'.format(Xtrain.shape))\n",
        "print('Shape of output sequences: {}'.format(Ytrain.shape))\n",
        "print(\"-\"*50)\n",
        "print(\"VALIDATION DATA\")\n",
        "print('Shape of input sequences: {}'.format(Xvalid.shape))\n",
        "print('Shape of output sequences: {}'.format(Yvalid.shape))\n",
        "print(\"-\"*50)\n",
        "print(\"TESTING DATA\")\n",
        "print('Shape of input sequences: {}'.format(Xtest.shape))\n",
        "print('Shape of output sequences: {}'.format(Ytest.shape))"
      ],
      "metadata": {
        "colab": {
          "base_uri": "https://localhost:8080/"
        },
        "id": "Sqe2ZmKq8noN",
        "outputId": "59071f30-c0d3-46b8-ada3-f105472d16b4"
      },
      "execution_count": null,
      "outputs": [
        {
          "output_type": "stream",
          "name": "stdout",
          "text": [
            "TRAINING DATA\n",
            "Shape of input sequences: (7595, 78)\n",
            "Shape of output sequences: (7595, 78, 45)\n",
            "--------------------------------------------------\n",
            "VALIDATION DATA\n",
            "Shape of input sequences: (1341, 78)\n",
            "Shape of output sequences: (1341, 78, 45)\n",
            "--------------------------------------------------\n",
            "TESTING DATA\n",
            "Shape of input sequences: (2012, 78)\n",
            "Shape of output sequences: (2012, 78, 45)\n"
          ]
        }
      ]
    },
    {
      "cell_type": "markdown",
      "source": [
        "## Building and training our models."
      ],
      "metadata": {
        "id": "NxEpZR5Y87X7"
      }
    },
    {
      "cell_type": "markdown",
      "source": [
        "As a benchmark we will use a multiclass logistic regression model. Since this model does not take word context into consideration, we expect it to struggle with words that can represent multiple parts of speech such as work, well, shot, etc. We, then, will improve on it with reccurent neural network models."
      ],
      "metadata": {
        "id": "Voho7r8tI3go"
      }
    },
    {
      "cell_type": "markdown",
      "source": [
        "### Logistic Regression model"
      ],
      "metadata": {
        "id": "xMv6yI1qLuG1"
      }
    },
    {
      "cell_type": "code",
      "source": [
        "# total number of tags\n",
        "NUM_CLASSES = Ytrain.shape[2]"
      ],
      "metadata": {
        "id": "yyqgERluFb5S"
      },
      "execution_count": null,
      "outputs": []
    },
    {
      "cell_type": "code",
      "source": [
        "# model 0\n",
        "lr_model = Sequential()\n",
        "\n",
        "# create embedding layer - usually the first layer in text problems\n",
        "lr_model.add(Embedding(input_dim     =  VOCABULARY_SIZE,         # vocabulary size - number of unique words in data\n",
        "                          output_dim    =  EMBEDDING_SIZE,          # length of vector with which each word is represented\n",
        "                          input_length  =  max_seq_length,          # length of input sequence\n",
        "                          weights       = [embedding_weights],      # GLoVe word embedding\n",
        "                          trainable     =  True                     # True - update the embeddings while training\n",
        "))\n",
        "\n",
        "# output is a dense layer with NUM_CLASSES nodes and activation softmax to perform classification of words as pos\n",
        "lr_model.add(Dense(NUM_CLASSES, activation='softmax'))"
      ],
      "metadata": {
        "id": "ZxIoXSvPFjQG"
      },
      "execution_count": null,
      "outputs": []
    },
    {
      "cell_type": "code",
      "source": [
        "# compile model 0\n",
        "lr_model.compile(loss =  'categorical_crossentropy',\n",
        "                    optimizer =  'adam',\n",
        "                    metrics   =  ['acc'])"
      ],
      "metadata": {
        "id": "GFqi6Do1HCu3"
      },
      "execution_count": null,
      "outputs": []
    },
    {
      "cell_type": "code",
      "source": [
        "# check summary of the model\n",
        "lr_model.summary()"
      ],
      "metadata": {
        "colab": {
          "base_uri": "https://localhost:8080/"
        },
        "id": "Xs96vcrAHPlz",
        "outputId": "9d799d21-41ae-4c42-b887-6db72ce94044"
      },
      "execution_count": null,
      "outputs": [
        {
          "output_type": "stream",
          "name": "stdout",
          "text": [
            "Model: \"sequential\"\n",
            "_________________________________________________________________\n",
            " Layer (type)                Output Shape              Param #   \n",
            "=================================================================\n",
            " embedding (Embedding)       (None, 78, 100)           1725900   \n",
            "                                                                 \n",
            " dense (Dense)               (None, 78, 45)            4545      \n",
            "                                                                 \n",
            "=================================================================\n",
            "Total params: 1,730,445\n",
            "Trainable params: 1,730,445\n",
            "Non-trainable params: 0\n",
            "_________________________________________________________________\n"
          ]
        }
      ]
    },
    {
      "cell_type": "code",
      "source": [
        "# fit model 0\n",
        "lr_training = lr_model.fit(Xtrain, Ytrain, batch_size=128, epochs=10, validation_data=(Xvalid, Yvalid))"
      ],
      "metadata": {
        "colab": {
          "base_uri": "https://localhost:8080/"
        },
        "id": "JofAie3RHYk1",
        "outputId": "945817ee-0f1b-4c15-b034-6ed86b863f6e"
      },
      "execution_count": null,
      "outputs": [
        {
          "output_type": "stream",
          "name": "stdout",
          "text": [
            "Epoch 1/10\n",
            "60/60 [==============================] - 4s 53ms/step - loss: 3.2166 - acc: 0.7655 - val_loss: 2.4354 - val_acc: 0.8450\n",
            "Epoch 2/10\n",
            "60/60 [==============================] - 3s 45ms/step - loss: 1.5267 - acc: 0.8808 - val_loss: 0.7621 - val_acc: 0.9106\n",
            "Epoch 3/10\n",
            "60/60 [==============================] - 3s 51ms/step - loss: 0.5325 - acc: 0.9278 - val_loss: 0.3942 - val_acc: 0.9398\n",
            "Epoch 4/10\n",
            "60/60 [==============================] - 4s 72ms/step - loss: 0.3192 - acc: 0.9520 - val_loss: 0.2716 - val_acc: 0.9551\n",
            "Epoch 5/10\n",
            "60/60 [==============================] - 3s 49ms/step - loss: 0.2253 - acc: 0.9646 - val_loss: 0.2073 - val_acc: 0.9627\n",
            "Epoch 6/10\n",
            "60/60 [==============================] - 3s 46ms/step - loss: 0.1722 - acc: 0.9710 - val_loss: 0.1698 - val_acc: 0.9678\n",
            "Epoch 7/10\n",
            "60/60 [==============================] - 3s 48ms/step - loss: 0.1390 - acc: 0.9749 - val_loss: 0.1460 - val_acc: 0.9704\n",
            "Epoch 8/10\n",
            "60/60 [==============================] - 4s 62ms/step - loss: 0.1167 - acc: 0.9772 - val_loss: 0.1302 - val_acc: 0.9713\n",
            "Epoch 9/10\n",
            "60/60 [==============================] - 4s 58ms/step - loss: 0.1009 - acc: 0.9788 - val_loss: 0.1191 - val_acc: 0.9725\n",
            "Epoch 10/10\n",
            "60/60 [==============================] - 3s 46ms/step - loss: 0.0893 - acc: 0.9800 - val_loss: 0.1111 - val_acc: 0.9733\n"
          ]
        }
      ]
    },
    {
      "cell_type": "code",
      "source": [
        "# visualise training history\n",
        "plt.plot(lr_training.history['acc'])\n",
        "plt.plot(lr_training.history['val_acc'])\n",
        "plt.title('model accuracy')\n",
        "plt.ylabel('accuracy')\n",
        "plt.xlabel('epoch')\n",
        "plt.legend(['train', 'test'], loc=\"lower right\")\n",
        "plt.show()"
      ],
      "metadata": {
        "colab": {
          "base_uri": "https://localhost:8080/",
          "height": 295
        },
        "id": "dF_Ti054L9Xw",
        "outputId": "9e7be91a-304f-44d1-e665-c73ee87008ce"
      },
      "execution_count": null,
      "outputs": [
        {
          "output_type": "display_data",
          "data": {
            "text/plain": [
              "<Figure size 432x288 with 1 Axes>"
            ],
            "image/png": "[encoded data removed]"
          },
          "metadata": {
            "needs_background": "light"
          }
        }
      ]
    },
    {
      "cell_type": "markdown",
      "source": [
        "### RNN model"
      ],
      "metadata": {
        "id": "neOXuo5HBtn0"
      }
    },
    {
      "cell_type": "markdown",
      "source": [
        "We will try the following two RNN models:\n",
        "\n",
        "1. RNN with arbitrarily initialized, trainable embeddings: In this model, we will allow the network to train the word embeddings.\n",
        "\n",
        "2. RNN with trainable GLoVe embeddings: In this experiment, we’ll use GLoVe word embeddings and also allow the network to train them further."
      ],
      "metadata": {
        "id": "BOolghCpBxJr"
      }
    },
    {
      "cell_type": "code",
      "source": [
        "# total number of tags\n",
        "NUM_CLASSES = Ytrain.shape[2]"
      ],
      "metadata": {
        "id": "KbRXGVdeGWNp"
      },
      "execution_count": null,
      "outputs": []
    },
    {
      "cell_type": "code",
      "source": [
        "# model 1\n",
        "rnn_model_1 = Sequential()\n",
        "\n",
        "# create embedding layer - usually the first layer in text problems\n",
        "rnn_model_1.add(Embedding(input_dim     =  VOCABULARY_SIZE,         # vocabulary size - number of unique words in data\n",
        "                          output_dim    =  EMBEDDING_SIZE,          # length of vector with which each word is represented\n",
        "                          input_length  =  max_seq_length,          # length of input sequence\n",
        "                          trainable     =  True                     # True - update the embeddings while training\n",
        "))\n",
        "\n",
        "# add an RNN layer which contains 64 RNN cells\n",
        "rnn_model_1.add(SimpleRNN(64, \n",
        "              return_sequences=True \n",
        "))\n",
        "\n",
        "# add time distributed (output at each sequence) layer\n",
        "rnn_model_1.add(TimeDistributed(Dense(NUM_CLASSES, activation='softmax')))"
      ],
      "metadata": {
        "id": "S9EjGK9iCWB5"
      },
      "execution_count": null,
      "outputs": []
    },
    {
      "cell_type": "code",
      "source": [
        "# compile model 1\n",
        "rnn_model_1.compile(loss =  'categorical_crossentropy',\n",
        "                    optimizer =  'adam',\n",
        "                    metrics   =  ['acc'])"
      ],
      "metadata": {
        "id": "FW61S0VEHJ6x"
      },
      "execution_count": null,
      "outputs": []
    },
    {
      "cell_type": "code",
      "source": [
        "# check summary of the model\n",
        "rnn_model_1.summary()"
      ],
      "metadata": {
        "colab": {
          "base_uri": "https://localhost:8080/"
        },
        "id": "dAJbvpHVHWda",
        "outputId": "eae8e257-db87-4f08-8bbd-919878dd57a6"
      },
      "execution_count": null,
      "outputs": [
        {
          "output_type": "stream",
          "name": "stdout",
          "text": [
            "Model: \"sequential\"\n",
            "_________________________________________________________________\n",
            " Layer (type)                Output Shape              Param #   \n",
            "=================================================================\n",
            " embedding (Embedding)       (None, 78, 100)           1725900   \n",
            "                                                                 \n",
            " simple_rnn (SimpleRNN)      (None, 78, 64)            10560     \n",
            "                                                                 \n",
            " time_distributed (TimeDistr  (None, 78, 45)           2925      \n",
            " ibuted)                                                         \n",
            "                                                                 \n",
            "=================================================================\n",
            "Total params: 1,739,385\n",
            "Trainable params: 1,739,385\n",
            "Non-trainable params: 0\n",
            "_________________________________________________________________\n"
          ]
        }
      ]
    },
    {
      "cell_type": "code",
      "source": [
        "# fit model 1\n",
        "rnn_1_training = rnn_model_1.fit(Xtrain, Ytrain, batch_size=128, epochs=10, validation_data=(Xvalid, Yvalid))"
      ],
      "metadata": {
        "colab": {
          "base_uri": "https://localhost:8080/"
        },
        "id": "6YqjyUVyHbs0",
        "outputId": "bed5a75b-5591-4c33-eb73-921d81f04291"
      },
      "execution_count": null,
      "outputs": [
        {
          "output_type": "stream",
          "name": "stdout",
          "text": [
            "Epoch 1/10\n",
            "60/60 [==============================] - 9s 111ms/step - loss: 1.8266 - acc: 0.6516 - val_loss: 1.0847 - val_acc: 0.7072\n",
            "Epoch 2/10\n",
            "60/60 [==============================] - 8s 133ms/step - loss: 0.9379 - acc: 0.7836 - val_loss: 0.8164 - val_acc: 0.8090\n",
            "Epoch 3/10\n",
            "60/60 [==============================] - 6s 103ms/step - loss: 0.7043 - acc: 0.8329 - val_loss: 0.5818 - val_acc: 0.8686\n",
            "Epoch 4/10\n",
            "60/60 [==============================] - 8s 129ms/step - loss: 0.4740 - acc: 0.8992 - val_loss: 0.3848 - val_acc: 0.9207\n",
            "Epoch 5/10\n",
            "60/60 [==============================] - 6s 104ms/step - loss: 0.3024 - acc: 0.9410 - val_loss: 0.2555 - val_acc: 0.9484\n",
            "Epoch 6/10\n",
            "60/60 [==============================] - 8s 131ms/step - loss: 0.1955 - acc: 0.9641 - val_loss: 0.1821 - val_acc: 0.9625\n",
            "Epoch 7/10\n",
            "60/60 [==============================] - 6s 102ms/step - loss: 0.1337 - acc: 0.9754 - val_loss: 0.1405 - val_acc: 0.9700\n",
            "Epoch 8/10\n",
            "60/60 [==============================] - 8s 131ms/step - loss: 0.0969 - acc: 0.9823 - val_loss: 0.1156 - val_acc: 0.9740\n",
            "Epoch 9/10\n",
            "60/60 [==============================] - 6s 100ms/step - loss: 0.0739 - acc: 0.9860 - val_loss: 0.1003 - val_acc: 0.9761\n",
            "Epoch 10/10\n",
            "60/60 [==============================] - 8s 128ms/step - loss: 0.0593 - acc: 0.9881 - val_loss: 0.0905 - val_acc: 0.9775\n"
          ]
        }
      ]
    },
    {
      "cell_type": "code",
      "source": [
        "# visualise training history\n",
        "plt.plot(rnn_1_training.history['acc'])\n",
        "plt.plot(rnn_1_training.history['val_acc'])\n",
        "plt.title('model accuracy')\n",
        "plt.ylabel('accuracy')\n",
        "plt.xlabel('epoch')\n",
        "plt.legend(['train', 'test'], loc=\"lower right\")\n",
        "plt.show()"
      ],
      "metadata": {
        "colab": {
          "base_uri": "https://localhost:8080/",
          "height": 295
        },
        "id": "rYv7aWoPIR7w",
        "outputId": "7f8331af-2239-44c2-cf46-08825ce54349"
      },
      "execution_count": null,
      "outputs": [
        {
          "output_type": "display_data",
          "data": {
            "text/plain": [
              "<Figure size 432x288 with 1 Axes>"
            ],
            "image/png": "[encoded data removed]"
          },
          "metadata": {
            "needs_background": "light"
          }
        }
      ]
    },
    {
      "cell_type": "markdown",
      "source": [
        "Use pretrained word embeddings"
      ],
      "metadata": {
        "id": "XNa2VI4fIv0K"
      }
    },
    {
      "cell_type": "code",
      "source": [
        "# model 2\n",
        "rnn_model_2 = Sequential()\n",
        "\n",
        "# create embedding layer \n",
        "rnn_model_2.add(Embedding(input_dim     =  VOCABULARY_SIZE,         # vocabulary size - number of unique words in data\n",
        "                          output_dim    =  EMBEDDING_SIZE,          # length of vector with which each word is represented\n",
        "                          input_length  =  max_seq_length,          # length of input sequence\n",
        "                          weights       = [embedding_weights],      # GLoVe word embedding matrix\n",
        "                          trainable     =  True                     # True - update the embeddings while training\n",
        "))\n",
        "\n",
        "# add an RNN layer which contains 64 RNN cells\n",
        "rnn_model_2.add(SimpleRNN(64, \n",
        "              return_sequences=True  \n",
        "))\n",
        "\n",
        "# add time distributed (output at each sequence) layer\n",
        "rnn_model_2.add(TimeDistributed(Dense(NUM_CLASSES, activation='softmax')))"
      ],
      "metadata": {
        "id": "ZzO5h-sMJWme"
      },
      "execution_count": null,
      "outputs": []
    },
    {
      "cell_type": "code",
      "source": [
        "# compile model 2\n",
        "rnn_model_2.compile(loss      =  'categorical_crossentropy',\n",
        "                  optimizer =  'adam',\n",
        "                  metrics   =  ['acc'])"
      ],
      "metadata": {
        "id": "YW6tww6NKnfV"
      },
      "execution_count": null,
      "outputs": []
    },
    {
      "cell_type": "code",
      "source": [
        "# check summary of the model\n",
        "rnn_model_2.summary()"
      ],
      "metadata": {
        "colab": {
          "base_uri": "https://localhost:8080/"
        },
        "id": "GzkzS7y0KyTe",
        "outputId": "2b9a931c-a254-4afa-b087-5745464aa574"
      },
      "execution_count": null,
      "outputs": [
        {
          "output_type": "stream",
          "name": "stdout",
          "text": [
            "Model: \"sequential_1\"\n",
            "_________________________________________________________________\n",
            " Layer (type)                Output Shape              Param #   \n",
            "=================================================================\n",
            " embedding_1 (Embedding)     (None, 78, 100)           1725900   \n",
            "                                                                 \n",
            " simple_rnn_1 (SimpleRNN)    (None, 78, 64)            10560     \n",
            "                                                                 \n",
            " time_distributed_1 (TimeDis  (None, 78, 45)           2925      \n",
            " tributed)                                                       \n",
            "                                                                 \n",
            "=================================================================\n",
            "Total params: 1,739,385\n",
            "Trainable params: 1,739,385\n",
            "Non-trainable params: 0\n",
            "_________________________________________________________________\n"
          ]
        }
      ]
    },
    {
      "cell_type": "code",
      "source": [
        "# fit model 2\n",
        "rnn_2_training = rnn_model_2.fit(Xtrain, Ytrain, batch_size=128, epochs=10, validation_data=(Xvalid, Yvalid))"
      ],
      "metadata": {
        "colab": {
          "base_uri": "https://localhost:8080/"
        },
        "id": "jmariQ9vK58d",
        "outputId": "1bca2e06-fe9c-41d4-a6a5-5d8e079a6733"
      },
      "execution_count": null,
      "outputs": [
        {
          "output_type": "stream",
          "name": "stdout",
          "text": [
            "Epoch 1/10\n",
            "60/60 [==============================] - 9s 106ms/step - loss: 1.4527 - acc: 0.7459 - val_loss: 0.7558 - val_acc: 0.8346\n",
            "Epoch 2/10\n",
            "60/60 [==============================] - 8s 128ms/step - loss: 0.5912 - acc: 0.8756 - val_loss: 0.4515 - val_acc: 0.9065\n",
            "Epoch 3/10\n",
            "60/60 [==============================] - 6s 103ms/step - loss: 0.3578 - acc: 0.9299 - val_loss: 0.2856 - val_acc: 0.9454\n",
            "Epoch 4/10\n",
            "60/60 [==============================] - 8s 127ms/step - loss: 0.2254 - acc: 0.9578 - val_loss: 0.1915 - val_acc: 0.9620\n",
            "Epoch 5/10\n",
            "60/60 [==============================] - 6s 98ms/step - loss: 0.1511 - acc: 0.9707 - val_loss: 0.1408 - val_acc: 0.9707\n",
            "Epoch 6/10\n",
            "60/60 [==============================] - 7s 123ms/step - loss: 0.1102 - acc: 0.9774 - val_loss: 0.1130 - val_acc: 0.9746\n",
            "Epoch 7/10\n",
            "60/60 [==============================] - 7s 110ms/step - loss: 0.0862 - acc: 0.9814 - val_loss: 0.0961 - val_acc: 0.9773\n",
            "Epoch 8/10\n",
            "60/60 [==============================] - 7s 120ms/step - loss: 0.0706 - acc: 0.9842 - val_loss: 0.0847 - val_acc: 0.9793\n",
            "Epoch 9/10\n",
            "60/60 [==============================] - 7s 111ms/step - loss: 0.0596 - acc: 0.9863 - val_loss: 0.0768 - val_acc: 0.9808\n",
            "Epoch 10/10\n",
            "60/60 [==============================] - 7s 117ms/step - loss: 0.0516 - acc: 0.9879 - val_loss: 0.0710 - val_acc: 0.9818\n"
          ]
        }
      ]
    },
    {
      "cell_type": "code",
      "source": [
        "# visualise training history\n",
        "plt.plot(rnn_2_training.history['acc'])\n",
        "plt.plot(rnn_2_training.history['val_acc'])\n",
        "plt.title('model accuracy')\n",
        "plt.ylabel('accuracy')\n",
        "plt.xlabel('epoch')\n",
        "plt.legend(['train', 'test'], loc=\"lower right\")\n",
        "plt.show()"
      ],
      "metadata": {
        "colab": {
          "base_uri": "https://localhost:8080/",
          "height": 295
        },
        "id": "0fYwAKNwL6k1",
        "outputId": "e9579f40-3457-45db-98f1-58e41abcb556"
      },
      "execution_count": null,
      "outputs": [
        {
          "output_type": "display_data",
          "data": {
            "text/plain": [
              "<Figure size 432x288 with 1 Axes>"
            ],
            "image/png": "[encoded data removed]"
          },
          "metadata": {
            "needs_background": "light"
          }
        }
      ]
    },
    {
      "cell_type": "markdown",
      "source": [
        "### GRU model"
      ],
      "metadata": {
        "id": "G7TcC14wMThq"
      }
    },
    {
      "cell_type": "markdown",
      "source": [
        "The RNN models are prone to vanishing or exploding gradients problem. To overcome these issues the researchers came up with two improved versions of RNN - LSTM and GRU. GRU being a simpler model than LSTM, is easier to train.  LSTMs and GRUs have almost completely replaced the standard RNNs in practice because they’re more effective and faster to train than vanilla RNNs (despite the larger number of parameters)."
      ],
      "metadata": {
        "id": "Fq-EYfKnNe6f"
      }
    },
    {
      "cell_type": "code",
      "source": [
        "# create a gru model\n",
        "gru_model = Sequential()\n",
        "gru_model.add(Embedding(input_dim     = VOCABULARY_SIZE,\n",
        "                        output_dim    = EMBEDDING_SIZE,\n",
        "                        input_length  = max_seq_length,\n",
        "                        weights       = [embedding_weights],\n",
        "                        trainable     = True\n",
        "))\n",
        "gru_model.add(GRU(64, return_sequences=True))\n",
        "gru_model.add(TimeDistributed(Dense(NUM_CLASSES, activation='softmax')))"
      ],
      "metadata": {
        "id": "xrAnzX20OC-u"
      },
      "execution_count": null,
      "outputs": []
    },
    {
      "cell_type": "code",
      "source": [
        "# compile the gru model\n",
        "gru_model.compile(loss='categorical_crossentropy',\n",
        "                  optimizer='adam',\n",
        "                  metrics=['acc'])"
      ],
      "metadata": {
        "id": "dPM00MV-Odsd"
      },
      "execution_count": null,
      "outputs": []
    },
    {
      "cell_type": "code",
      "source": [
        "# check summary of model\n",
        "gru_model.summary()"
      ],
      "metadata": {
        "colab": {
          "base_uri": "https://localhost:8080/"
        },
        "id": "ER1YQ3pZOmAr",
        "outputId": "a0837128-4a15-44c4-c079-906fefd1087e"
      },
      "execution_count": null,
      "outputs": [
        {
          "output_type": "stream",
          "name": "stdout",
          "text": [
            "Model: \"sequential_2\"\n",
            "_________________________________________________________________\n",
            " Layer (type)                Output Shape              Param #   \n",
            "=================================================================\n",
            " embedding_2 (Embedding)     (None, 78, 100)           1725900   \n",
            "                                                                 \n",
            " gru (GRU)                   (None, 78, 64)            31872     \n",
            "                                                                 \n",
            " time_distributed_2 (TimeDis  (None, 78, 45)           2925      \n",
            " tributed)                                                       \n",
            "                                                                 \n",
            "=================================================================\n",
            "Total params: 1,760,697\n",
            "Trainable params: 1,760,697\n",
            "Non-trainable params: 0\n",
            "_________________________________________________________________\n"
          ]
        }
      ]
    },
    {
      "cell_type": "code",
      "source": [
        "# fit the gru model\n",
        "gru_training = gru_model.fit(Xtrain, Ytrain, batch_size=128, epochs=10, validation_data=(Xvalid, Yvalid))"
      ],
      "metadata": {
        "colab": {
          "base_uri": "https://localhost:8080/"
        },
        "id": "9HeRGykJOrnd",
        "outputId": "0cfc06b2-6834-480d-93a0-99c75e9dfa01"
      },
      "execution_count": null,
      "outputs": [
        {
          "output_type": "stream",
          "name": "stdout",
          "text": [
            "Epoch 1/10\n",
            "60/60 [==============================] - 19s 240ms/step - loss: 1.9947 - acc: 0.7639 - val_loss: 0.7954 - val_acc: 0.8321\n",
            "Epoch 2/10\n",
            "60/60 [==============================] - 14s 230ms/step - loss: 0.6293 - acc: 0.8686 - val_loss: 0.4715 - val_acc: 0.9065\n",
            "Epoch 3/10\n",
            "60/60 [==============================] - 13s 218ms/step - loss: 0.3641 - acc: 0.9319 - val_loss: 0.2793 - val_acc: 0.9478\n",
            "Epoch 4/10\n",
            "60/60 [==============================] - 13s 217ms/step - loss: 0.2188 - acc: 0.9586 - val_loss: 0.1826 - val_acc: 0.9627\n",
            "Epoch 5/10\n",
            "60/60 [==============================] - 13s 220ms/step - loss: 0.1451 - acc: 0.9708 - val_loss: 0.1334 - val_acc: 0.9712\n",
            "Epoch 6/10\n",
            "60/60 [==============================] - 12s 206ms/step - loss: 0.1060 - acc: 0.9769 - val_loss: 0.1068 - val_acc: 0.9753\n",
            "Epoch 7/10\n",
            "60/60 [==============================] - 14s 234ms/step - loss: 0.0832 - acc: 0.9810 - val_loss: 0.0907 - val_acc: 0.9779\n",
            "Epoch 8/10\n",
            "60/60 [==============================] - 13s 224ms/step - loss: 0.0685 - acc: 0.9837 - val_loss: 0.0801 - val_acc: 0.9799\n",
            "Epoch 9/10\n",
            "60/60 [==============================] - 14s 238ms/step - loss: 0.0583 - acc: 0.9857 - val_loss: 0.0729 - val_acc: 0.9811\n",
            "Epoch 10/10\n",
            "60/60 [==============================] - 14s 228ms/step - loss: 0.0509 - acc: 0.9871 - val_loss: 0.0679 - val_acc: 0.9820\n"
          ]
        }
      ]
    },
    {
      "cell_type": "code",
      "source": [
        "# visualise training history\n",
        "plt.plot(gru_training.history['acc'])\n",
        "plt.plot(gru_training.history['val_acc'])\n",
        "plt.title('model accuracy')\n",
        "plt.ylabel('accuracy')\n",
        "plt.xlabel('epoch')\n",
        "plt.legend(['train', 'test'], loc=\"lower right\")\n",
        "plt.show()"
      ],
      "metadata": {
        "colab": {
          "base_uri": "https://localhost:8080/",
          "height": 295
        },
        "id": "VqSEgUcaPOU8",
        "outputId": "095e482d-2b81-4888-c2fc-62b853dc1d0d"
      },
      "execution_count": null,
      "outputs": [
        {
          "output_type": "display_data",
          "data": {
            "text/plain": [
              "<Figure size 432x288 with 1 Axes>"
            ],
            "image/png": "[encoded data removed]"
          },
          "metadata": {
            "needs_background": "light"
          }
        }
      ]
    },
    {
      "cell_type": "markdown",
      "source": [
        "### LSTM model"
      ],
      "metadata": {
        "id": "-l6pDD3dGq4i"
      }
    },
    {
      "cell_type": "code",
      "source": [
        "# create an LSTM model\n",
        "lstm_model = Sequential()\n",
        "lstm_model.add(Embedding(input_dim     = VOCABULARY_SIZE,         # vocabulary size - number of unique words in data\n",
        "                         output_dim    = EMBEDDING_SIZE,          # length of vector with which each word is represented\n",
        "                         input_length  = max_seq_length,          # length of input sequence\n",
        "                         weights       = [embedding_weights],     # word embedding matrix\n",
        "                         trainable     = True                     # True - update embeddings_weight matrix\n",
        "))\n",
        "lstm_model.add(LSTM(64, return_sequences=True))\n",
        "lstm_model.add(TimeDistributed(Dense(NUM_CLASSES, activation='softmax')))"
      ],
      "metadata": {
        "id": "uOymhnyiGwWQ"
      },
      "execution_count": null,
      "outputs": []
    },
    {
      "cell_type": "code",
      "source": [
        "# compile the LSTM model\n",
        "lstm_model.compile(loss      =  'categorical_crossentropy',\n",
        "                   optimizer =  'adam',\n",
        "                   metrics   =  ['acc'])"
      ],
      "metadata": {
        "id": "HC2-8c-bHDz0"
      },
      "execution_count": null,
      "outputs": []
    },
    {
      "cell_type": "code",
      "source": [
        "# check summary of the model\n",
        "lstm_model.summary()"
      ],
      "metadata": {
        "colab": {
          "base_uri": "https://localhost:8080/"
        },
        "id": "hBl-v_ZYHQ90",
        "outputId": "c80938c5-6875-4c5a-b04e-6dc8411674c3"
      },
      "execution_count": null,
      "outputs": [
        {
          "output_type": "stream",
          "name": "stdout",
          "text": [
            "Model: \"sequential_3\"\n",
            "_________________________________________________________________\n",
            " Layer (type)                Output Shape              Param #   \n",
            "=================================================================\n",
            " embedding_3 (Embedding)     (None, 78, 100)           1725900   \n",
            "                                                                 \n",
            " lstm (LSTM)                 (None, 78, 64)            42240     \n",
            "                                                                 \n",
            " time_distributed_3 (TimeDis  (None, 78, 45)           2925      \n",
            " tributed)                                                       \n",
            "                                                                 \n",
            "=================================================================\n",
            "Total params: 1,771,065\n",
            "Trainable params: 1,771,065\n",
            "Non-trainable params: 0\n",
            "_________________________________________________________________\n"
          ]
        }
      ]
    },
    {
      "cell_type": "code",
      "source": [
        "# fit the LSTM model\n",
        "lstm_training = lstm_model.fit(Xtrain, Ytrain, batch_size=128, epochs=10, validation_data=(Xvalid, Yvalid))"
      ],
      "metadata": {
        "colab": {
          "base_uri": "https://localhost:8080/"
        },
        "id": "_D_5PsFdHYBK",
        "outputId": "243bcbd6-047d-406a-980f-43181d7db7d6"
      },
      "execution_count": null,
      "outputs": [
        {
          "output_type": "stream",
          "name": "stdout",
          "text": [
            "Epoch 1/10\n",
            "60/60 [==============================] - 18s 248ms/step - loss: 1.9854 - acc: 0.7463 - val_loss: 0.9813 - val_acc: 0.7760\n",
            "Epoch 2/10\n",
            "60/60 [==============================] - 15s 246ms/step - loss: 0.8639 - acc: 0.8092 - val_loss: 0.7340 - val_acc: 0.8440\n",
            "Epoch 3/10\n",
            "60/60 [==============================] - 14s 236ms/step - loss: 0.6195 - acc: 0.8613 - val_loss: 0.5044 - val_acc: 0.8875\n",
            "Epoch 4/10\n",
            "60/60 [==============================] - 14s 238ms/step - loss: 0.4164 - acc: 0.9150 - val_loss: 0.3392 - val_acc: 0.9334\n",
            "Epoch 5/10\n",
            "60/60 [==============================] - 17s 283ms/step - loss: 0.2792 - acc: 0.9478 - val_loss: 0.2368 - val_acc: 0.9548\n",
            "Epoch 6/10\n",
            "60/60 [==============================] - 18s 291ms/step - loss: 0.1947 - acc: 0.9639 - val_loss: 0.1750 - val_acc: 0.9651\n",
            "Epoch 7/10\n",
            "60/60 [==============================] - 14s 239ms/step - loss: 0.1435 - acc: 0.9733 - val_loss: 0.1380 - val_acc: 0.9719\n",
            "Epoch 8/10\n",
            "60/60 [==============================] - 14s 236ms/step - loss: 0.1120 - acc: 0.9781 - val_loss: 0.1147 - val_acc: 0.9747\n",
            "Epoch 9/10\n",
            "60/60 [==============================] - 14s 234ms/step - loss: 0.0915 - acc: 0.9809 - val_loss: 0.0996 - val_acc: 0.9766\n",
            "Epoch 10/10\n",
            "60/60 [==============================] - 14s 237ms/step - loss: 0.0773 - acc: 0.9833 - val_loss: 0.0890 - val_acc: 0.9785\n"
          ]
        }
      ]
    },
    {
      "cell_type": "code",
      "source": [
        "# visualise training history\n",
        "plt.plot(lstm_training.history['acc'])\n",
        "plt.plot(lstm_training.history['val_acc'])\n",
        "plt.title('model accuracy')\n",
        "plt.ylabel('accuracy')\n",
        "plt.xlabel('epoch')\n",
        "plt.legend(['train', 'test'], loc=\"lower right\")\n",
        "plt.show()"
      ],
      "metadata": {
        "colab": {
          "base_uri": "https://localhost:8080/",
          "height": 295
        },
        "id": "7Kxu9jmxH-sM",
        "outputId": "f1a1440e-44e4-47db-8406-939e01fdc6ee"
      },
      "execution_count": null,
      "outputs": [
        {
          "output_type": "display_data",
          "data": {
            "text/plain": [
              "<Figure size 432x288 with 1 Axes>"
            ],
            "image/png": "[encoded data removed]"
          },
          "metadata": {
            "needs_background": "light"
          }
        }
      ]
    },
    {
      "cell_type": "markdown",
      "source": [
        "## Evaluating models"
      ],
      "metadata": {
        "id": "M03iXy-5PzSR"
      }
    },
    {
      "cell_type": "markdown",
      "source": [
        "Next we evaluate our models on test data."
      ],
      "metadata": {
        "id": "jRRitFmXrZba"
      }
    },
    {
      "cell_type": "markdown",
      "source": [
        "Multiclass Linear Regression model"
      ],
      "metadata": {
        "id": "I3n_TD73IHnA"
      }
    },
    {
      "cell_type": "code",
      "source": [
        "loss, accuracy = lr_model.evaluate(Xtest, Ytest, verbose = 1)\n",
        "print(\"Loss: {0},\\nAccuracy: {1}\".format(loss, accuracy))"
      ],
      "metadata": {
        "colab": {
          "base_uri": "https://localhost:8080/"
        },
        "id": "YYlo61vpIVi6",
        "outputId": "5585a838-9320-4911-d800-0b044e14c6d8"
      },
      "execution_count": null,
      "outputs": [
        {
          "output_type": "stream",
          "name": "stdout",
          "text": [
            "63/63 [==============================] - 1s 11ms/step - loss: 1.0415 - acc: 0.8469\n",
            "Loss: 1.0415045022964478,\n",
            "Accuracy: 0.8469248414039612\n"
          ]
        }
      ]
    },
    {
      "cell_type": "markdown",
      "source": [
        "RNN_1 model"
      ],
      "metadata": {
        "id": "_rFov3sLtaK-"
      }
    },
    {
      "cell_type": "code",
      "source": [
        "loss, accuracy = rnn_model_1.evaluate(Xtest, Ytest, verbose = 1)\n",
        "print(\"Loss: {0},\\nAccuracy: {1}\".format(loss, accuracy))"
      ],
      "metadata": {
        "colab": {
          "base_uri": "https://localhost:8080/"
        },
        "id": "9SBWVD9GQhod",
        "outputId": "518e3c77-ad67-4520-bdc3-e649ec238d28"
      },
      "execution_count": null,
      "outputs": [
        {
          "output_type": "stream",
          "name": "stdout",
          "text": [
            "63/63 [==============================] - 1s 22ms/step - loss: 1.2057 - acc: 0.8491\n",
            "Loss: 1.2056972980499268,\n",
            "Accuracy: 0.8491295576095581\n"
          ]
        }
      ]
    },
    {
      "cell_type": "markdown",
      "source": [
        "RNN_2 model"
      ],
      "metadata": {
        "id": "AwndsrpCRJnY"
      }
    },
    {
      "cell_type": "code",
      "source": [
        "loss, accuracy = rnn_model_2.evaluate(Xtest, Ytest, verbose = 1)\n",
        "print(\"Loss: {0},\\nAccuracy: {1}\".format(loss, accuracy))"
      ],
      "metadata": {
        "colab": {
          "base_uri": "https://localhost:8080/"
        },
        "id": "3rxZWwoUtjWF",
        "outputId": "5f26419d-46ef-417a-fbae-efa419ab2d61"
      },
      "execution_count": null,
      "outputs": [
        {
          "output_type": "stream",
          "name": "stdout",
          "text": [
            "63/63 [==============================] - 1s 13ms/step - loss: 1.2304 - acc: 0.8502\n",
            "Loss: 1.2304353713989258,\n",
            "Accuracy: 0.850174605846405\n"
          ]
        }
      ]
    },
    {
      "cell_type": "markdown",
      "source": [
        "GRU model"
      ],
      "metadata": {
        "id": "Gso3Foptt0wM"
      }
    },
    {
      "cell_type": "code",
      "source": [
        "loss, accuracy = gru_model.evaluate(Xtest, Ytest, verbose = 1)\n",
        "print(\"Loss: {0},\\nAccuracy: {1}\".format(loss, accuracy))"
      ],
      "metadata": {
        "colab": {
          "base_uri": "https://localhost:8080/"
        },
        "id": "Vh3yOcwjt6lC",
        "outputId": "2a1d3ee1-e127-4e6e-e404-d8869172ae48"
      },
      "execution_count": null,
      "outputs": [
        {
          "output_type": "stream",
          "name": "stdout",
          "text": [
            "63/63 [==============================] - 1s 19ms/step - loss: 1.2228 - acc: 0.8500\n",
            "Loss: 1.2227652072906494,\n",
            "Accuracy: 0.8499515652656555\n"
          ]
        }
      ]
    },
    {
      "cell_type": "markdown",
      "source": [
        "LSTM model"
      ],
      "metadata": {
        "id": "0n6m-Sp6MvVK"
      }
    },
    {
      "cell_type": "code",
      "source": [
        "loss, accuracy = lstm_model.evaluate(Xtest, Ytest, verbose = 1)\n",
        "print(\"Loss: {0},\\nAccuracy: {1}\".format(loss, accuracy))"
      ],
      "metadata": {
        "colab": {
          "base_uri": "https://localhost:8080/"
        },
        "id": "QH7U9x5QIqBq",
        "outputId": "78010969-3438-43f8-b682-a91aaf2f0fc6"
      },
      "execution_count": null,
      "outputs": [
        {
          "output_type": "stream",
          "name": "stdout",
          "text": [
            "63/63 [==============================] - 2s 30ms/step - loss: 1.0841 - acc: 0.8488\n",
            "Loss: 1.0840632915496826,\n",
            "Accuracy: 0.8487791419029236\n"
          ]
        }
      ]
    },
    {
      "cell_type": "markdown",
      "source": [
        "The RNN model with GLoVe pretrained word embedding performs the best on the test set. It is also faster than GRU and LSTM models."
      ],
      "metadata": {
        "id": "xwkv0TTdItYz"
      }
    }
  ]
}